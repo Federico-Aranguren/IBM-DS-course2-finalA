{
 "cells": [
  {
   "cell_type": "markdown",
   "id": "891b2829-7fdc-403e-b86b-f16b895c7c63",
   "metadata": {},
   "source": [
    "# Data Science Tools and Ecosystem"
   ]
  },
  {
   "cell_type": "markdown",
   "id": "3623f7e6-712a-4a8b-92b2-199df4a4ca55",
   "metadata": {},
   "source": [
    "![1st screenshot](2-title.png)"
   ]
  },
  {
   "cell_type": "markdown",
   "id": "2aa880de-9d45-4ba9-9d40-23a5bd23e494",
   "metadata": {},
   "source": [
    "## Author\n",
    "Federico Aranguren Gómez\n",
    "![12 ss](11-authordetails.png)"
   ]
  },
  {
   "cell_type": "markdown",
   "id": "03782c8c-8e74-4eff-8a1c-d3bbf6e77d75",
   "metadata": {},
   "source": [
    "In this notebook, Data Science Tools and Ecosystem are summarized.\n",
    "![2nd screenshot](3-intro.png)"
   ]
  },
  {
   "cell_type": "markdown",
   "id": "0e8baaf4-85c3-417e-b7ce-831b43d47d51",
   "metadata": {},
   "source": [
    "Some of the popular languages that Data Scientists use are:\n",
    "\n",
    "- Julia\n",
    "- Python\n",
    "- R\n",
    "- Ruby\n",
    "\n",
    "![3rd screenshot](4-dslanguages.png)"
   ]
  },
  {
   "cell_type": "markdown",
   "id": "5e57282c-e510-45ae-a604-47498b291bdc",
   "metadata": {},
   "source": [
    "__Objectives:__\n",
    "\n",
    "- List popular languages for Data Science\n",
    "- List popular libraries for Data Science\n",
    "- List popular development enviroments for Data Science\n",
    "\n",
    "![11 ss](10-objectives.png)"
   ]
  },
  {
   "cell_type": "markdown",
   "id": "a5b5d252-65ab-4aad-8b05-caf9ee79782c",
   "metadata": {},
   "source": [
    "Some of the commonly used libraries used by Data Scientists include:\n",
    "\n",
    "- dplyr\n",
    "- Pandas\n",
    "- Numpy\n",
    "\n",
    "![4th screenshot](5-dslibraries.png)"
   ]
  },
  {
   "cell_type": "markdown",
   "id": "7d723e4c-0719-4642-8c08-cb4e984c0da2",
   "metadata": {},
   "source": [
    "|Data science tools|\n",
    "|----|\n",
    "|VS Code|\n",
    "|Jupyter lab|\n",
    "|Git|\n",
    "\n",
    "![5 ss](6-dstools.png)"
   ]
  },
  {
   "cell_type": "markdown",
   "id": "0f007f8a-5c77-4bfe-9e05-de1359ef7022",
   "metadata": {},
   "source": [
    "### Below are a few examples of evaluating arithmetic expressions in Python.\n",
    "![6 ss](7-aexpresions.png)"
   ]
  },
  {
   "cell_type": "code",
   "execution_count": 2,
   "id": "e9e6a72c-cb42-48a9-8503-d88987751ff7",
   "metadata": {},
   "outputs": [
    {
     "data": {
      "text/plain": [
       "17"
      ]
     },
     "execution_count": 2,
     "metadata": {},
     "output_type": "execute_result"
    }
   ],
   "source": [
    "(3*4)+5\n",
    "#This a simple arithmetic expression to mutiply then add integers"
   ]
  },
  {
   "cell_type": "markdown",
   "id": "35e734d0-f71f-4d67-b97e-b642b930e83a",
   "metadata": {},
   "source": [
    "![7 ss](8-multiplyandaddintegers.png)"
   ]
  },
  {
   "cell_type": "code",
   "execution_count": 3,
   "id": "114f2112-edd0-4cdf-9144-799c9cfab517",
   "metadata": {},
   "outputs": [],
   "source": [
    "def mintoh(min):\n",
    "    return min/60"
   ]
  },
  {
   "cell_type": "code",
   "execution_count": 4,
   "id": "716c7228-83c5-4d8d-bfcf-f9a45653e28e",
   "metadata": {},
   "outputs": [
    {
     "data": {
      "text/plain": [
       "3.3333333333333335"
      ]
     },
     "execution_count": 4,
     "metadata": {},
     "output_type": "execute_result"
    }
   ],
   "source": [
    "#This will convert 200 minutes to hours by diving by 60\n",
    "mintoh(200)"
   ]
  },
  {
   "cell_type": "markdown",
   "id": "53cf485a-cee4-4254-abab-488fc1d32592",
   "metadata": {},
   "source": [
    "![8 ss](9-hourstominutes.png)"
   ]
  },
  {
   "cell_type": "code",
   "execution_count": null,
   "id": "eb3d6851-d04e-4e78-8c70-aa1557cf6f75",
   "metadata": {},
   "outputs": [],
   "source": []
  }
 ],
 "metadata": {
  "kernelspec": {
   "display_name": "Python 3 (ipykernel)",
   "language": "python",
   "name": "python3"
  },
  "language_info": {
   "codemirror_mode": {
    "name": "ipython",
    "version": 3
   },
   "file_extension": ".py",
   "mimetype": "text/x-python",
   "name": "python",
   "nbconvert_exporter": "python",
   "pygments_lexer": "ipython3",
   "version": "3.11.8"
  }
 },
 "nbformat": 4,
 "nbformat_minor": 5
}
